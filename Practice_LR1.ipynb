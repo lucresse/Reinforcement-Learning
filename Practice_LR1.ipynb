{
 "cells": [
  {
   "cell_type": "code",
   "execution_count": 43,
   "metadata": {},
   "outputs": [],
   "source": [
    "# Let's compute the V value for 3 states and 3 actions\n",
    "# possible transition\n",
    "import numpy as np\n",
    "nan = np.nan\n",
    "T = np.array([\n",
    "    [[0.5,0.3,0.2],[0,0.9,0.1],[0,0,1]],\n",
    "    [[0.1,0.7,0.2],[nan,nan,nan],[0.2,0,0.8]],\n",
    "    [[1,0,0],[0.3,0.3,0.4],[nan,nan,nan]]\n",
    "]\n",
    ")"
   ]
  },
  {
   "cell_type": "code",
   "execution_count": 44,
   "metadata": {},
   "outputs": [],
   "source": [
    "# possible reward\n",
    "R = np.array([\n",
    "    [[5,20,2],[0,15,1],[23,20,11]],\n",
    "    [[13,9,1],[nan,nan,nan],[2,8,4]],\n",
    "    [[1,0,0],[3,3,4],[nan,nan,nan]]\n",
    "]\n",
    ")"
   ]
  },
  {
   "cell_type": "code",
   "execution_count": 45,
   "metadata": {},
   "outputs": [],
   "source": [
    "# possible actions\n",
    "act = [[0,1,2],[0,2],[0,1]]\n",
    "\n",
    "discount_fact = 0.6"
   ]
  },
  {
   "cell_type": "code",
   "execution_count": 56,
   "metadata": {},
   "outputs": [],
   "source": [
    "# The value funcion\n",
    "def value_function(discount_fact, T, R, act):\n",
    "    V = np.zeros(3)\n",
    "    for i in range(1000):\n",
    "        V_pred = V.copy()\n",
    "        for s in range(3):\n",
    "            V[s]=np.max([np.sum([\n",
    "                T[s,a,sprime]*(R[s,a,sprime]+discount_fact*V_pred[sprime]) for sprime in range(3)\n",
    "            ]) for a in act[s]])\n",
    "    return V"
   ]
  },
  {
   "cell_type": "code",
   "execution_count": 57,
   "metadata": {},
   "outputs": [
    {
     "data": {
      "text/plain": [
       "array([25.00737947, 19.34650705, 16.00442768])"
      ]
     },
     "execution_count": 57,
     "metadata": {},
     "output_type": "execute_result"
    }
   ],
   "source": [
    "value_function(discount_fact, T, R, act)"
   ]
  },
  {
   "cell_type": "code",
   "execution_count": 48,
   "metadata": {},
   "outputs": [],
   "source": [
    "# Let's define the Q-value: Exploitation\n",
    "def Q_function(discount_fact, T, R, act):\n",
    "    Q = np.full((3,3), -np.inf)\n",
    "    for i,j in enumerate(act):\n",
    "        Q[i,j]=0\n",
    "    for i in range(1000):\n",
    "        Q_pred = Q.copy()\n",
    "        for s in range(3):\n",
    "            for a in act[s]:\n",
    "                Q[s,a]=np.sum([T[s,a,sprime]*(R[s,a,sprime]+discount_fact*np.max(Q_pred[sprime])) for sprime in range(3)] )\n",
    "                \n",
    "    return Q"
   ]
  },
  {
   "cell_type": "code",
   "execution_count": 49,
   "metadata": {},
   "outputs": [
    {
     "data": {
      "text/plain": [
       "array([[21.80511643, 25.00737947, 20.60265661],\n",
       "       [19.34650705,        -inf, 14.28301082],\n",
       "       [16.00442768, 15.22476222,        -inf]])"
      ]
     },
     "execution_count": 49,
     "metadata": {},
     "output_type": "execute_result"
    }
   ],
   "source": [
    "Q_function(discount_fact, T, R, act)"
   ]
  },
  {
   "cell_type": "code",
   "execution_count": 50,
   "metadata": {},
   "outputs": [
    {
     "data": {
      "text/plain": [
       "array([1, 0, 0])"
      ]
     },
     "execution_count": 50,
     "metadata": {},
     "output_type": "execute_result"
    }
   ],
   "source": [
    "# To find the policy\n",
    "\n",
    "arg = Q_function(discount_fact, T, R, act)\n",
    "list_argmax = np.argmax(arg, axis=1)\n",
    "list_argmax"
   ]
  },
  {
   "cell_type": "code",
   "execution_count": 52,
   "metadata": {},
   "outputs": [],
   "source": [
    "# To implement TD learning algo : Randomly select action (Exploration) and state\n",
    "def TD_function(discount_fact, lr, T, R, act):\n",
    "    s = 0\n",
    "    V = np.full(3, -np.inf)\n",
    "    for i,j in enumerate(act):\n",
    "        V[i]=0\n",
    "    for i in range(1000):\n",
    "        V_pred = V.copy()\n",
    "        rand_act = np.random.choice(act[s])\n",
    "        sprime = np.random.choice(range(3), p=T[s,rand_act])\n",
    "                \n",
    "        V[s]=(1-lr)*V_pred[s] + discount_fact*(R[s,rand_act,sprime]+V_pred[sprime]) \n",
    "        s = sprime\n",
    "    return V"
   ]
  },
  {
   "cell_type": "code",
   "execution_count": 53,
   "metadata": {},
   "outputs": [
    {
     "data": {
      "text/plain": [
       "array([21.46345659, 12.81888473, 18.90400027])"
      ]
     },
     "execution_count": 53,
     "metadata": {},
     "output_type": "execute_result"
    }
   ],
   "source": [
    "lr=0.8 \n",
    "TD_function(discount_fact, lr, T, R, act) "
   ]
  },
  {
   "cell_type": "code",
   "execution_count": null,
   "metadata": {},
   "outputs": [],
   "source": []
  }
 ],
 "metadata": {
  "kernelspec": {
   "display_name": "Python 3",
   "language": "python",
   "name": "python3"
  },
  "language_info": {
   "codemirror_mode": {
    "name": "ipython",
    "version": 3
   },
   "file_extension": ".py",
   "mimetype": "text/x-python",
   "name": "python",
   "nbconvert_exporter": "python",
   "pygments_lexer": "ipython3",
   "version": "3.7.3"
  }
 },
 "nbformat": 4,
 "nbformat_minor": 2
}
